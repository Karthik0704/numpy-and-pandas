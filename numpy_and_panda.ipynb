{
  "nbformat": 4,
  "nbformat_minor": 0,
  "metadata": {
    "colab": {
      "provenance": [],
      "authorship_tag": "ABX9TyPv/FwZOKrpduN1/mB3gbkb",
      "include_colab_link": true
    },
    "kernelspec": {
      "name": "python3",
      "display_name": "Python 3"
    },
    "language_info": {
      "name": "python"
    }
  },
  "cells": [
    {
      "cell_type": "markdown",
      "metadata": {
        "id": "view-in-github",
        "colab_type": "text"
      },
      "source": [
        "<a href=\"https://colab.research.google.com/github/Karthik0704/numpy-and-pandas/blob/main/numpy_and_panda.ipynb\" target=\"_parent\"><img src=\"https://colab.research.google.com/assets/colab-badge.svg\" alt=\"Open In Colab\"/></a>"
      ]
    },
    {
      "cell_type": "code",
      "execution_count": null,
      "metadata": {
        "id": "9oGDzuU0Ei0s",
        "colab": {
          "base_uri": "https://localhost:8080/"
        },
        "outputId": "f8889b57-f6ed-4e51-aa25-429c4b582b57"
      },
      "outputs": [
        {
          "output_type": "execute_result",
          "data": {
            "text/plain": [
              "array([10, 20, 30, 40])"
            ]
          },
          "metadata": {},
          "execution_count": 1
        }
      ],
      "source": [
        "#creating numpy\n",
        "#creating single dimension array\n",
        "import numpy as np\n",
        "n1=np.array([10,20,30,40])\n",
        "n1"
      ]
    },
    {
      "cell_type": "code",
      "source": [
        "#creating numpy\n",
        "#creating two dimension array\n",
        "import numpy as np\n",
        "n2=np.array([[10,20,30,40],[40,60,70,80]])\n",
        "n2"
      ],
      "metadata": {
        "colab": {
          "base_uri": "https://localhost:8080/"
        },
        "id": "sCkJ9c54FgJf",
        "outputId": "33ff6b01-a488-423d-d897-c2bddcffa1c3"
      },
      "execution_count": null,
      "outputs": [
        {
          "output_type": "execute_result",
          "data": {
            "text/plain": [
              "array([[10, 20, 30, 40],\n",
              "       [40, 60, 70, 80]])"
            ]
          },
          "metadata": {},
          "execution_count": 5
        }
      ]
    },
    {
      "cell_type": "code",
      "source": [
        "type(n2)"
      ],
      "metadata": {
        "colab": {
          "base_uri": "https://localhost:8080/"
        },
        "id": "IF90ZFnwHWmy",
        "outputId": "d148a940-eb14-4607-e57a-0c1717e4745d"
      },
      "execution_count": null,
      "outputs": [
        {
          "output_type": "execute_result",
          "data": {
            "text/plain": [
              "numpy.ndarray"
            ]
          },
          "metadata": {},
          "execution_count": 6
        }
      ]
    },
    {
      "cell_type": "code",
      "source": [
        "#initiliazing numpy arrays with 0\n",
        "import numpy as np\n",
        "n1=np.zeros((1,2))#here 1,2 refers that this will be 1 cross 2 matrix\\\n",
        "n1"
      ],
      "metadata": {
        "colab": {
          "base_uri": "https://localhost:8080/"
        },
        "id": "F84uFvEKHdON",
        "outputId": "633e6f96-e886-4deb-86c8-8fb684ffa4b7"
      },
      "execution_count": null,
      "outputs": [
        {
          "output_type": "execute_result",
          "data": {
            "text/plain": [
              "array([[0., 0.]])"
            ]
          },
          "metadata": {},
          "execution_count": 7
        }
      ]
    },
    {
      "cell_type": "code",
      "source": [
        "#initiliazing numpy arrays with 0\n",
        "import numpy as np\n",
        "n1=np.zeros((5,5))\n",
        "n1"
      ],
      "metadata": {
        "colab": {
          "base_uri": "https://localhost:8080/"
        },
        "id": "Qwrgoh41IIvX",
        "outputId": "a9cd2313-2f37-45e5-a245-ebd34e7d4549"
      },
      "execution_count": null,
      "outputs": [
        {
          "output_type": "execute_result",
          "data": {
            "text/plain": [
              "array([[0., 0., 0., 0., 0.],\n",
              "       [0., 0., 0., 0., 0.],\n",
              "       [0., 0., 0., 0., 0.],\n",
              "       [0., 0., 0., 0., 0.],\n",
              "       [0., 0., 0., 0., 0.]])"
            ]
          },
          "metadata": {},
          "execution_count": 8
        }
      ]
    },
    {
      "cell_type": "code",
      "source": [
        "#initiliazing numpy array with same numbers\n",
        "import numpy as np\n",
        "n1=np.full((3,3),100)  # here full is used to make same elements in matrix\n",
        "n1"
      ],
      "metadata": {
        "colab": {
          "base_uri": "https://localhost:8080/"
        },
        "id": "V-s98EF7IkxG",
        "outputId": "c8e6788e-228a-4a12-a9db-9e7e7a974143"
      },
      "execution_count": null,
      "outputs": [
        {
          "output_type": "execute_result",
          "data": {
            "text/plain": [
              "array([[100, 100, 100],\n",
              "       [100, 100, 100],\n",
              "       [100, 100, 100]])"
            ]
          },
          "metadata": {},
          "execution_count": 9
        }
      ]
    },
    {
      "cell_type": "code",
      "source": [
        "# assigning ranges\n",
        "import numpy as np\n",
        "n1=np.arange(10,20) # here 10,20 will be the range and it includes 10 and excludes 20\n",
        "n1"
      ],
      "metadata": {
        "colab": {
          "base_uri": "https://localhost:8080/"
        },
        "id": "SJZQSVRZJKKJ",
        "outputId": "9949c8aa-8039-4345-df0a-efde9648c1de"
      },
      "execution_count": null,
      "outputs": [
        {
          "output_type": "execute_result",
          "data": {
            "text/plain": [
              "array([10, 11, 12, 13, 14, 15, 16, 17, 18, 19])"
            ]
          },
          "metadata": {},
          "execution_count": 14
        }
      ]
    },
    {
      "cell_type": "code",
      "source": [
        "# assigning ranges\n",
        "import numpy as np\n",
        "n1=np.arange(10,20,2) # here 10,20 will be the range and it includes 10 and excludes 20 and 2 refers to the step between the two range\n",
        "n1"
      ],
      "metadata": {
        "colab": {
          "base_uri": "https://localhost:8080/"
        },
        "id": "LoqqDW0YKCIZ",
        "outputId": "313c1cc9-4b9b-4881-dea4-a6ac25571d46"
      },
      "execution_count": null,
      "outputs": [
        {
          "output_type": "execute_result",
          "data": {
            "text/plain": [
              "array([10, 12, 14, 16, 18])"
            ]
          },
          "metadata": {},
          "execution_count": 15
        }
      ]
    },
    {
      "cell_type": "code",
      "source": [
        "# Initiliazing array with random numbers\n",
        "import numpy as np\n",
        "n1=np.random.randint(10,200,20)  # here 20 will be the number of random elements that shouls be displayed\n",
        "n1"
      ],
      "metadata": {
        "colab": {
          "base_uri": "https://localhost:8080/"
        },
        "id": "fwufcF8KKSHQ",
        "outputId": "f3233f81-ef1c-44f1-aec7-31ae83cab03c"
      },
      "execution_count": null,
      "outputs": [
        {
          "output_type": "execute_result",
          "data": {
            "text/plain": [
              "array([152, 150, 152,  52,  78,  47, 186,  10, 151, 139,  87,  23, 135,\n",
              "       147, 158, 129, 188,  37,  79, 139])"
            ]
          },
          "metadata": {},
          "execution_count": 18
        }
      ]
    },
    {
      "cell_type": "code",
      "source": [
        "# To check thr order of matrix and to change it\n",
        "import numpy as np\n",
        "n2=np.array([[10,20,30,40],[40,60,70,80]])\n",
        "n2.shape\n",
        "n2"
      ],
      "metadata": {
        "colab": {
          "base_uri": "https://localhost:8080/"
        },
        "id": "y_AI9s_sMYZt",
        "outputId": "c4ebe89f-94a1-4851-e3be-53f28dc42aba"
      },
      "execution_count": null,
      "outputs": [
        {
          "output_type": "execute_result",
          "data": {
            "text/plain": [
              "array([[10, 20, 30, 40],\n",
              "       [40, 60, 70, 80]])"
            ]
          },
          "metadata": {},
          "execution_count": 27
        }
      ]
    },
    {
      "cell_type": "code",
      "source": [
        "n2.shape=(4,2) # This \"shape\" helps in changing the order of array\n",
        "n2.shape\n",
        "n2"
      ],
      "metadata": {
        "colab": {
          "base_uri": "https://localhost:8080/"
        },
        "id": "EscD-cGIM5lS",
        "outputId": "26930794-8848-476b-abeb-ac941b19a7c8"
      },
      "execution_count": null,
      "outputs": [
        {
          "output_type": "execute_result",
          "data": {
            "text/plain": [
              "array([[10, 20],\n",
              "       [30, 40],\n",
              "       [40, 60],\n",
              "       [70, 80]])"
            ]
          },
          "metadata": {},
          "execution_count": 26
        }
      ]
    },
    {
      "cell_type": "code",
      "source": [
        "#joining numpy arrays using vstac() , hstack() and columnstack() to arrange the array vertically,horizontally and column wise respectively\n",
        "import numpy as np\n",
        "n1=np.array([10,20,30])\n",
        "n2=np.array([40,50,60])\n",
        "np.vstack((n2,n1))\n"
      ],
      "metadata": {
        "colab": {
          "base_uri": "https://localhost:8080/"
        },
        "id": "VXxTbdQ6NayR",
        "outputId": "cde30364-5bd9-4b65-e830-61b3202a0d2a"
      },
      "execution_count": null,
      "outputs": [
        {
          "output_type": "execute_result",
          "data": {
            "text/plain": [
              "array([[40, 50, 60],\n",
              "       [10, 20, 30]])"
            ]
          },
          "metadata": {},
          "execution_count": 29
        }
      ]
    },
    {
      "cell_type": "code",
      "source": [
        "#joining numpy arrays using vstac() , hstack() and columnstack() to arrange the array vertically,horizontally and column wise respectively\n",
        "import numpy as np\n",
        "n1=np.array([10,20,30])\n",
        "n2=np.array([40,50,60])\n",
        "np.hstack((n1,n2))\n"
      ],
      "metadata": {
        "colab": {
          "base_uri": "https://localhost:8080/"
        },
        "id": "HFR_K-YRPDq3",
        "outputId": "0a2331aa-0809-4ce7-b1e6-ec122e2c14bb"
      },
      "execution_count": null,
      "outputs": [
        {
          "output_type": "execute_result",
          "data": {
            "text/plain": [
              "array([10, 20, 30, 40, 50, 60])"
            ]
          },
          "metadata": {},
          "execution_count": 30
        }
      ]
    },
    {
      "cell_type": "code",
      "source": [
        "#joining numpy arrays using vstac() , hstack() and column_stack() to arrange the array vertically,horizontally and column wise respectively\n",
        "import numpy as np\n",
        "n1=np.array([10,20,30])\n",
        "n2=np.array([40,50,60])\n",
        "np.column_stack((n2,n1))\n"
      ],
      "metadata": {
        "colab": {
          "base_uri": "https://localhost:8080/"
        },
        "id": "Nj7P9hXNPM7Y",
        "outputId": "8b2320e3-427c-4c12-b1ba-a94dfda26a26"
      },
      "execution_count": null,
      "outputs": [
        {
          "output_type": "execute_result",
          "data": {
            "text/plain": [
              "array([[40, 10],\n",
              "       [50, 20],\n",
              "       [60, 30]])"
            ]
          },
          "metadata": {},
          "execution_count": 32
        }
      ]
    },
    {
      "cell_type": "code",
      "source": [
        "#joining numpy arrays using vstac() , hstack() and column_stack() to arrange the array vertically,horizontally and column wise respectively\n",
        "import numpy as np\n",
        "n1=np.array([10,20,30])\n",
        "n2=np.array([40,50,60])\n",
        "np.row_stack((n2,n1))\n"
      ],
      "metadata": {
        "colab": {
          "base_uri": "https://localhost:8080/"
        },
        "id": "QPsaLzcvPamf",
        "outputId": "b8350c13-7b99-43f0-dbe3-900079741a34"
      },
      "execution_count": null,
      "outputs": [
        {
          "output_type": "execute_result",
          "data": {
            "text/plain": [
              "array([[40, 50, 60],\n",
              "       [10, 20, 30]])"
            ]
          },
          "metadata": {},
          "execution_count": 33
        }
      ]
    },
    {
      "cell_type": "code",
      "source": [
        "# intersection and difference in array\n",
        "import numpy as np\n",
        "n1=np.array([10,20,30])\n",
        "n2=np.array([40,50,60,20,10])\n",
        "np.intersect1d(n1,n2)"
      ],
      "metadata": {
        "colab": {
          "base_uri": "https://localhost:8080/"
        },
        "id": "BoBHiGPXPgwa",
        "outputId": "7f153691-a7b1-46b5-b877-2cf6a9797821"
      },
      "execution_count": null,
      "outputs": [
        {
          "output_type": "execute_result",
          "data": {
            "text/plain": [
              "array([10, 20])"
            ]
          },
          "metadata": {},
          "execution_count": 35
        }
      ]
    },
    {
      "cell_type": "code",
      "source": [
        "# intersection and difference in array\n",
        "import numpy as np\n",
        "n1=np.array([10,20,30])\n",
        "n2=np.array([40,50,60,20,10])\n",
        "np.setdiff1d(n1,n2)"
      ],
      "metadata": {
        "colab": {
          "base_uri": "https://localhost:8080/"
        },
        "id": "V9gOOXVLQ4_R",
        "outputId": "258dc621-bdcb-4d96-f2af-b33a3c24c24e"
      },
      "execution_count": null,
      "outputs": [
        {
          "output_type": "execute_result",
          "data": {
            "text/plain": [
              "array([30])"
            ]
          },
          "metadata": {},
          "execution_count": 36
        }
      ]
    },
    {
      "cell_type": "code",
      "source": [
        "# intersection and difference in array\n",
        "import numpy as np\n",
        "n1=np.array([10,20,30])\n",
        "n2=np.array([40,50,60,20,10])\n",
        "np.setdiff1d(n2,n1)"
      ],
      "metadata": {
        "colab": {
          "base_uri": "https://localhost:8080/"
        },
        "id": "xZg6_VjjRJYI",
        "outputId": "e62166d0-083b-4df7-a8c4-933f92cfb3d1"
      },
      "execution_count": null,
      "outputs": [
        {
          "output_type": "execute_result",
          "data": {
            "text/plain": [
              "array([40, 50, 60])"
            ]
          },
          "metadata": {},
          "execution_count": 6
        }
      ]
    },
    {
      "cell_type": "code",
      "source": [
        "#Addition of numpy arrays\n",
        "import numpy as np\n",
        "n1=np.array([10,20,30])\n",
        "n2=np.array([40,50,60])\n",
        "np.sum([n1,n2])   # here this gives the sum of all the elements in the array"
      ],
      "metadata": {
        "colab": {
          "base_uri": "https://localhost:8080/"
        },
        "id": "Q5CzrpB2Syh3",
        "outputId": "14e72b6b-eb3f-4a3a-d1c0-8ccca674415c"
      },
      "execution_count": null,
      "outputs": [
        {
          "output_type": "execute_result",
          "data": {
            "text/plain": [
              "210"
            ]
          },
          "metadata": {},
          "execution_count": 5
        }
      ]
    },
    {
      "cell_type": "code",
      "source": [
        "import numpy as np\n",
        "n1=np.array([10,20,30])\n",
        "n2=np.array([40,50,60])\n",
        "np.sum([n1,n2],axis=0) #This adds the column elements together and dispalys in a single row"
      ],
      "metadata": {
        "colab": {
          "base_uri": "https://localhost:8080/"
        },
        "id": "W5impJRUUMQr",
        "outputId": "661b73b3-6a4a-4ce8-f636-d150a303b2c2"
      },
      "execution_count": null,
      "outputs": [
        {
          "output_type": "execute_result",
          "data": {
            "text/plain": [
              "array([50, 70, 90])"
            ]
          },
          "metadata": {},
          "execution_count": 7
        }
      ]
    },
    {
      "cell_type": "code",
      "source": [
        "import numpy as np\n",
        "n1=np.array([10,20,30])\n",
        "n2=np.array([40,50,60])\n",
        "np.sum([n1,n2],axis=1)  #this separetly adds all the row elements and displays in the row"
      ],
      "metadata": {
        "colab": {
          "base_uri": "https://localhost:8080/"
        },
        "id": "SrHdKHd7UiFp",
        "outputId": "2d48d130-c76f-4426-9e6c-f5bcfa666b9b"
      },
      "execution_count": null,
      "outputs": [
        {
          "output_type": "execute_result",
          "data": {
            "text/plain": [
              "array([ 60, 150])"
            ]
          },
          "metadata": {},
          "execution_count": 8
        }
      ]
    },
    {
      "cell_type": "code",
      "source": [
        "# Addding substracting multplying and dividing the array elements\n",
        "import numpy as np\n",
        "n1=np.array([10,20,30])\n",
        "n1=n1+5                     # This add 5 to each elements and displays newly added elements\n",
        "n1"
      ],
      "metadata": {
        "colab": {
          "base_uri": "https://localhost:8080/"
        },
        "id": "M80TQ8HyVBqc",
        "outputId": "0a0b681e-c427-4d0a-f7a8-9708b9ff74ce"
      },
      "execution_count": null,
      "outputs": [
        {
          "output_type": "execute_result",
          "data": {
            "text/plain": [
              "array([15, 25, 35])"
            ]
          },
          "metadata": {},
          "execution_count": 9
        }
      ]
    },
    {
      "cell_type": "code",
      "source": [
        "import numpy as np\n",
        "n1=np.array([10,20,30])\n",
        "n1=n1-5                       # this substracts\n",
        "n1"
      ],
      "metadata": {
        "colab": {
          "base_uri": "https://localhost:8080/"
        },
        "id": "_tN1_ENGV5hY",
        "outputId": "03c5bc15-d81e-4688-cd0f-025251e487f3"
      },
      "execution_count": null,
      "outputs": [
        {
          "output_type": "execute_result",
          "data": {
            "text/plain": [
              "array([ 5, 15, 25])"
            ]
          },
          "metadata": {},
          "execution_count": 10
        }
      ]
    },
    {
      "cell_type": "code",
      "source": [
        "import numpy as np\n",
        "n1=np.array([10,20,30])\n",
        "n1=n1*5                       # this multiplies\n",
        "n1"
      ],
      "metadata": {
        "colab": {
          "base_uri": "https://localhost:8080/"
        },
        "id": "aG5BQ_SdWBby",
        "outputId": "1e9d999b-9b41-4778-ba68-42ab60ab40fc"
      },
      "execution_count": null,
      "outputs": [
        {
          "output_type": "execute_result",
          "data": {
            "text/plain": [
              "array([ 50, 100, 150])"
            ]
          },
          "metadata": {},
          "execution_count": 11
        }
      ]
    },
    {
      "cell_type": "code",
      "source": [
        "import numpy as np\n",
        "n1=np.array([10,20,30,17])\n",
        "n1=n1/5                           # This divides\n",
        "n1   "
      ],
      "metadata": {
        "colab": {
          "base_uri": "https://localhost:8080/"
        },
        "id": "DodFovN0WHi5",
        "outputId": "e7e808be-f76c-4527-e7a2-bddb94132d84"
      },
      "execution_count": null,
      "outputs": [
        {
          "output_type": "execute_result",
          "data": {
            "text/plain": [
              "array([2. , 4. , 6. , 3.4])"
            ]
          },
          "metadata": {},
          "execution_count": 13
        }
      ]
    },
    {
      "cell_type": "code",
      "source": [
        "# Find mean median and standard deviation for array elements\n",
        "import numpy as np\n",
        "n1=np.array([10,20,30,17])\n",
        "np.mean(n1)"
      ],
      "metadata": {
        "colab": {
          "base_uri": "https://localhost:8080/"
        },
        "id": "sckRvuDYYqv5",
        "outputId": "5c5fe2ff-b683-443f-8b38-a4d2a5559be5"
      },
      "execution_count": null,
      "outputs": [
        {
          "output_type": "execute_result",
          "data": {
            "text/plain": [
              "19.25"
            ]
          },
          "metadata": {},
          "execution_count": 14
        }
      ]
    },
    {
      "cell_type": "code",
      "source": [
        "import numpy as np\n",
        "n1=np.array([10,20,30,17])\n",
        "np.median(n1)"
      ],
      "metadata": {
        "colab": {
          "base_uri": "https://localhost:8080/"
        },
        "id": "VqWLfAsqZXz5",
        "outputId": "a3178690-a38c-41a5-c7c3-6749f631614b"
      },
      "execution_count": null,
      "outputs": [
        {
          "output_type": "execute_result",
          "data": {
            "text/plain": [
              "18.5"
            ]
          },
          "metadata": {},
          "execution_count": 15
        }
      ]
    },
    {
      "cell_type": "code",
      "source": [
        "import numpy as np\n",
        "n1=np.array([10,20,30,17])\n",
        "np.std(n1)"
      ],
      "metadata": {
        "colab": {
          "base_uri": "https://localhost:8080/"
        },
        "id": "F1WJNfiCZkg7",
        "outputId": "e9054aa7-f05c-45c6-aae8-6557a7e400e0"
      },
      "execution_count": null,
      "outputs": [
        {
          "output_type": "execute_result",
          "data": {
            "text/plain": [
              "7.189401922274203"
            ]
          },
          "metadata": {},
          "execution_count": 16
        }
      ]
    },
    {
      "cell_type": "code",
      "source": [
        "#Saving and loading numpy arrayt\n",
        "n1=np.array([22,33,55,78,95])\n",
        "np.save('my_numpy',n1)               # This saves the array with given name\n",
        "n2=np.load('my_numpy.npy')           # This reloads the savesd array with different name or object with specified\n",
        "n2\n"
      ],
      "metadata": {
        "colab": {
          "base_uri": "https://localhost:8080/"
        },
        "id": "1bV53ADra94s",
        "outputId": "cca14b15-e470-4d76-c8f0-e2c07ca7534f"
      },
      "execution_count": null,
      "outputs": [
        {
          "output_type": "execute_result",
          "data": {
            "text/plain": [
              "array([22, 33, 55, 78, 95])"
            ]
          },
          "metadata": {},
          "execution_count": 18
        }
      ]
    },
    {
      "cell_type": "code",
      "source": [],
      "metadata": {
        "id": "6W-dpZeib4vv"
      },
      "execution_count": null,
      "outputs": []
    }
  ]
}